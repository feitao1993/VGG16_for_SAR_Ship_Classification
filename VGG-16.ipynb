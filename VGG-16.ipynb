{
 "cells": [
  {
   "cell_type": "markdown",
   "metadata": {},
   "source": [
    "# Import all the necessary modules\n",
    "Make a conda environment and install Tensorflow 1.9.0, keras 2.1.6, OpenCV, and sklearn "
   ]
  },
  {
   "cell_type": "code",
   "execution_count": 176,
   "metadata": {},
   "outputs": [],
   "source": [
    "%matplotlib inline\n",
    "import random\n",
    "import pandas as pd\n",
    "import numpy as np\n",
    "import matplotlib.pyplot as plt\n",
    "import itertools\n",
    "import os\n",
    "import cv2\n",
    "import tensorflow as tf\n",
    "import keras\n",
    "from keras.preprocessing.image import ImageDataGenerator\n",
    "from keras.models import Sequential, load_model, model_from_json\n",
    "from keras.layers import Dense, Dropout, Activation, Flatten, BatchNormalization\n",
    "from keras.layers import Conv2D, MaxPooling2D\n",
    "from keras import optimizers, regularizers\n",
    "from sklearn import preprocessing\n",
    "from sklearn.metrics import classification_report\n",
    "from sklearn.metrics import confusion_matrix\n",
    "from sklearn.metrics import confusion_matrix\n",
    "from scipy import misc, ndimage\n",
    "from IPython.display import display, HTML"
   ]
  },
  {
   "cell_type": "markdown",
   "metadata": {},
   "source": [
    "# Lock the Random variables\n",
    ".seed functions allow us to reproduce the same results for each random initialization\n",
    "If the seed is set to the same number each time the program is run then the results of training the model will be the same"
   ]
  },
  {
   "cell_type": "code",
   "execution_count": 121,
   "metadata": {},
   "outputs": [],
   "source": [
    "os.environ['PYTHONHASHSEED'] = '0' \n",
    "np.random.seed(10)\n",
    "random.seed(10)\n",
    "tf.set_random_seed(10)"
   ]
  },
  {
   "cell_type": "markdown",
   "metadata": {},
   "source": [
    "helper function below for plotting images"
   ]
  },
  {
   "cell_type": "code",
   "execution_count": null,
   "metadata": {},
   "outputs": [],
   "source": [
    "def plots(ims, figsize = (12,6), rows = 1, interp=False, titles=None):\n",
    "    if type(ims[0]) is np.ndarray:\n",
    "        ims = np.array(ims).astype(np.uint8)\n",
    "        if (ims.shape[-1] != 3):\n",
    "            ims = ims.transpose((0,2,3,1))\n",
    "    f = plt.figure(figsize = figsize)\n",
    "    cols = len(ims)//rows if len(ims) % 2 == 0 else len(ims)//rows + 1\n",
    "    for i in range(len(ims)):\n",
    "        sp = f.add_subplot(rows, cols, i+1)\n",
    "        sp.axis('Off')\n",
    "        if titles is not None:\n",
    "            sp.set_title(titles[i], fontsize=16)\n",
    "        plt.imshow(ims[i], interpolation=None if interp else 'none')"
   ]
  },
  {
   "cell_type": "markdown",
   "metadata": {},
   "source": [
    "Path to directories containing the image data, and the list of classes"
   ]
  },
  {
   "cell_type": "code",
   "execution_count": 9,
   "metadata": {},
   "outputs": [],
   "source": [
    "DATADIR = \"/home/hamza/hamzamk/Keras_work/Ship_images\"\n",
    "#categories1 = [\"cargo_RGB\", \"dredging_RGB\",  \"fishing_RGB\",  \"tanker_RGB\",  \"tug_RGB\"]\n",
    "categories = [\"cargo\", \"tanker\", \"others\"]"
   ]
  },
  {
   "cell_type": "code",
   "execution_count": 10,
   "metadata": {},
   "outputs": [],
   "source": [
    "train_path = '/home/hamza/hamzamk/Keras_work/Ship_images/train'\n",
    "valid_path = '/home/hamza/hamzamk/Keras_work/Ship_images/valid'\n",
    "test_path = '/home/hamza/hamzamk/Keras_work/Ship_images/test'"
   ]
  },
  {
   "cell_type": "code",
   "execution_count": 11,
   "metadata": {},
   "outputs": [
    {
     "name": "stdout",
     "output_type": "stream",
     "text": [
      "Found 11269 images belonging to 3 classes.\n",
      "Found 140 images belonging to 3 classes.\n",
      "Found 21 images belonging to 3 classes.\n"
     ]
    }
   ],
   "source": [
    "train_batches = ImageDataGenerator().flow_from_directory(train_path, target_size = (224, 224), color_mode='rgb', classes = categories, batch_size = 32, shuffle=True)\n",
    "valid_batches = ImageDataGenerator().flow_from_directory(valid_path, target_size = (224, 224), color_mode='rgb',  classes = categories, batch_size = 30, shuffle=True)\n",
    "test_batches = ImageDataGenerator().flow_from_directory(test_path, target_size = (224, 224),  color_mode='rgb', classes = categories, batch_size = 27, shuffle=True)"
   ]
  },
  {
   "cell_type": "markdown",
   "metadata": {},
   "source": [
    "Check the indices or lables assigned to each class by the ImageDataGenerator()"
   ]
  },
  {
   "cell_type": "code",
   "execution_count": 148,
   "metadata": {},
   "outputs": [
    {
     "data": {
      "text/plain": [
       "{'cargo': 0, 'tanker': 1, 'others': 2}"
      ]
     },
     "execution_count": 148,
     "metadata": {},
     "output_type": "execute_result"
    }
   ],
   "source": [
    "test_imgs, test_labels = next(test_batches)\n",
    "class_labels = test_batches.class_indices\n",
    "class_labels"
   ]
  },
  {
   "cell_type": "markdown",
   "metadata": {},
   "source": [
    "Load the model and check its structure"
   ]
  },
  {
   "cell_type": "code",
   "execution_count": 12,
   "metadata": {},
   "outputs": [
    {
     "name": "stdout",
     "output_type": "stream",
     "text": [
      "_________________________________________________________________\n",
      "Layer (type)                 Output Shape              Param #   \n",
      "=================================================================\n",
      "input_1 (InputLayer)         (None, 224, 224, 3)       0         \n",
      "_________________________________________________________________\n",
      "block1_conv1 (Conv2D)        (None, 224, 224, 64)      1792      \n",
      "_________________________________________________________________\n",
      "block1_conv2 (Conv2D)        (None, 224, 224, 64)      36928     \n",
      "_________________________________________________________________\n",
      "block1_pool (MaxPooling2D)   (None, 112, 112, 64)      0         \n",
      "_________________________________________________________________\n",
      "block2_conv1 (Conv2D)        (None, 112, 112, 128)     73856     \n",
      "_________________________________________________________________\n",
      "block2_conv2 (Conv2D)        (None, 112, 112, 128)     147584    \n",
      "_________________________________________________________________\n",
      "block2_pool (MaxPooling2D)   (None, 56, 56, 128)       0         \n",
      "_________________________________________________________________\n",
      "block3_conv1 (Conv2D)        (None, 56, 56, 256)       295168    \n",
      "_________________________________________________________________\n",
      "block3_conv2 (Conv2D)        (None, 56, 56, 256)       590080    \n",
      "_________________________________________________________________\n",
      "block3_conv3 (Conv2D)        (None, 56, 56, 256)       590080    \n",
      "_________________________________________________________________\n",
      "block3_pool (MaxPooling2D)   (None, 28, 28, 256)       0         \n",
      "_________________________________________________________________\n",
      "block4_conv1 (Conv2D)        (None, 28, 28, 512)       1180160   \n",
      "_________________________________________________________________\n",
      "block4_conv2 (Conv2D)        (None, 28, 28, 512)       2359808   \n",
      "_________________________________________________________________\n",
      "block4_conv3 (Conv2D)        (None, 28, 28, 512)       2359808   \n",
      "_________________________________________________________________\n",
      "block4_pool (MaxPooling2D)   (None, 14, 14, 512)       0         \n",
      "_________________________________________________________________\n",
      "block5_conv1 (Conv2D)        (None, 14, 14, 512)       2359808   \n",
      "_________________________________________________________________\n",
      "block5_conv2 (Conv2D)        (None, 14, 14, 512)       2359808   \n",
      "_________________________________________________________________\n",
      "block5_conv3 (Conv2D)        (None, 14, 14, 512)       2359808   \n",
      "_________________________________________________________________\n",
      "block5_pool (MaxPooling2D)   (None, 7, 7, 512)         0         \n",
      "_________________________________________________________________\n",
      "flatten (Flatten)            (None, 25088)             0         \n",
      "_________________________________________________________________\n",
      "fc1 (Dense)                  (None, 4096)              102764544 \n",
      "_________________________________________________________________\n",
      "fc2 (Dense)                  (None, 4096)              16781312  \n",
      "_________________________________________________________________\n",
      "predictions (Dense)          (None, 1000)              4097000   \n",
      "=================================================================\n",
      "Total params: 138,357,544\n",
      "Trainable params: 138,357,544\n",
      "Non-trainable params: 0\n",
      "_________________________________________________________________\n"
     ]
    }
   ],
   "source": [
    "vgg16_model = keras.applications.vgg16.VGG16()\n",
    "vgg16_model.summary()"
   ]
  },
  {
   "cell_type": "code",
   "execution_count": 15,
   "metadata": {},
   "outputs": [
    {
     "data": {
      "text/plain": [
       "keras.engine.training.Model"
      ]
     },
     "execution_count": 15,
     "metadata": {},
     "output_type": "execute_result"
    }
   ],
   "source": [
    "type(vgg16_model)"
   ]
  },
  {
   "cell_type": "markdown",
   "metadata": {},
   "source": [
    "# Customizing VGG16\n",
    "iterate over the layers to feed the sequential model, set trainable to False to benefit from the pre-trained weights.\n",
    "Add layers to the model for fine tuning."
   ]
  },
  {
   "cell_type": "code",
   "execution_count": 35,
   "metadata": {
    "scrolled": true
   },
   "outputs": [],
   "source": [
    "layers = []\n",
    "for layer in vgg16_model.layers[:-4]:\n",
    "    layer.trainable = False\n",
    "    layers.append(layer)\n",
    "\n",
    "model = Sequential(layers + [\n",
    "    Conv2D(filters = 512, kernel_size = (7, 7), activation = 'relu'),\n",
    "    #Conv2D(filters = 512, kernel_size = (4,4), activation = 'relu'),\n",
    "    Flatten(),\n",
    "    BatchNormalization(),\n",
    "    Dense(4096, activation='relu'),\n",
    "    Dense(2048, activation = 'relu'),\n",
    "    Dropout(0.3),\n",
    "    Dense(3, activation = 'softmax')\n",
    "])"
   ]
  },
  {
   "cell_type": "code",
   "execution_count": 36,
   "metadata": {},
   "outputs": [
    {
     "name": "stdout",
     "output_type": "stream",
     "text": [
      "_________________________________________________________________\n",
      "Layer (type)                 Output Shape              Param #   \n",
      "=================================================================\n",
      "input_1 (InputLayer)         (None, 224, 224, 3)       0         \n",
      "_________________________________________________________________\n",
      "block1_conv1 (Conv2D)        (None, 224, 224, 64)      1792      \n",
      "_________________________________________________________________\n",
      "block1_conv2 (Conv2D)        (None, 224, 224, 64)      36928     \n",
      "_________________________________________________________________\n",
      "block1_pool (MaxPooling2D)   (None, 112, 112, 64)      0         \n",
      "_________________________________________________________________\n",
      "block2_conv1 (Conv2D)        (None, 112, 112, 128)     73856     \n",
      "_________________________________________________________________\n",
      "block2_conv2 (Conv2D)        (None, 112, 112, 128)     147584    \n",
      "_________________________________________________________________\n",
      "block2_pool (MaxPooling2D)   (None, 56, 56, 128)       0         \n",
      "_________________________________________________________________\n",
      "block3_conv1 (Conv2D)        (None, 56, 56, 256)       295168    \n",
      "_________________________________________________________________\n",
      "block3_conv2 (Conv2D)        (None, 56, 56, 256)       590080    \n",
      "_________________________________________________________________\n",
      "block3_conv3 (Conv2D)        (None, 56, 56, 256)       590080    \n",
      "_________________________________________________________________\n",
      "block3_pool (MaxPooling2D)   (None, 28, 28, 256)       0         \n",
      "_________________________________________________________________\n",
      "block4_conv1 (Conv2D)        (None, 28, 28, 512)       1180160   \n",
      "_________________________________________________________________\n",
      "block4_conv2 (Conv2D)        (None, 28, 28, 512)       2359808   \n",
      "_________________________________________________________________\n",
      "block4_conv3 (Conv2D)        (None, 28, 28, 512)       2359808   \n",
      "_________________________________________________________________\n",
      "block4_pool (MaxPooling2D)   (None, 14, 14, 512)       0         \n",
      "_________________________________________________________________\n",
      "block5_conv1 (Conv2D)        (None, 14, 14, 512)       2359808   \n",
      "_________________________________________________________________\n",
      "block5_conv2 (Conv2D)        (None, 14, 14, 512)       2359808   \n",
      "_________________________________________________________________\n",
      "block5_conv3 (Conv2D)        (None, 14, 14, 512)       2359808   \n",
      "_________________________________________________________________\n",
      "block5_pool (MaxPooling2D)   (None, 7, 7, 512)         0         \n",
      "_________________________________________________________________\n",
      "conv2d_18 (Conv2D)           (None, 1, 1, 512)         12845568  \n",
      "_________________________________________________________________\n",
      "flatten_13 (Flatten)         (None, 512)               0         \n",
      "_________________________________________________________________\n",
      "batch_normalization_13 (Batc (None, 512)               2048      \n",
      "_________________________________________________________________\n",
      "dense_37 (Dense)             (None, 4096)              2101248   \n",
      "_________________________________________________________________\n",
      "dense_38 (Dense)             (None, 2048)              8390656   \n",
      "_________________________________________________________________\n",
      "dropout_13 (Dropout)         (None, 2048)              0         \n",
      "_________________________________________________________________\n",
      "dense_39 (Dense)             (None, 3)                 6147      \n",
      "=================================================================\n",
      "Total params: 38,060,355\n",
      "Trainable params: 23,344,643\n",
      "Non-trainable params: 14,715,712\n",
      "_________________________________________________________________\n"
     ]
    }
   ],
   "source": [
    "model.summary()"
   ]
  },
  {
   "cell_type": "markdown",
   "metadata": {},
   "source": [
    "# Model Compilation and Training"
   ]
  },
  {
   "cell_type": "code",
   "execution_count": 37,
   "metadata": {},
   "outputs": [],
   "source": [
    "Adam = optimizers.Adam(lr=0.0001)\n",
    "model.compile(optimizer='Adam', loss='categorical_crossentropy', metrics=['accuracy'])"
   ]
  },
  {
   "cell_type": "code",
   "execution_count": 38,
   "metadata": {},
   "outputs": [
    {
     "name": "stdout",
     "output_type": "stream",
     "text": [
      "Epoch 1/33\n",
      "353/353 [==============================] - 42s 119ms/step - loss: 0.7930 - acc: 0.7397 - val_loss: 0.8273 - val_acc: 0.6429\n",
      "Epoch 2/33\n",
      "353/353 [==============================] - 39s 112ms/step - loss: 0.6137 - acc: 0.7603 - val_loss: 1.2094 - val_acc: 0.6857\n",
      "Epoch 3/33\n",
      "353/353 [==============================] - 39s 112ms/step - loss: 0.5758 - acc: 0.7730 - val_loss: 0.7135 - val_acc: 0.7143\n",
      "Epoch 4/33\n",
      "353/353 [==============================] - 40s 113ms/step - loss: 0.5328 - acc: 0.7837 - val_loss: 0.7206 - val_acc: 0.7071\n",
      "Epoch 5/33\n",
      "353/353 [==============================] - 40s 113ms/step - loss: 0.4856 - acc: 0.8006 - val_loss: 0.8780 - val_acc: 0.6786\n",
      "Epoch 6/33\n",
      "353/353 [==============================] - 40s 113ms/step - loss: 0.4331 - acc: 0.8235 - val_loss: 0.9285 - val_acc: 0.7000\n",
      "Epoch 7/33\n",
      "353/353 [==============================] - 40s 113ms/step - loss: 0.3866 - acc: 0.8418 - val_loss: 1.2975 - val_acc: 0.6857\n",
      "Epoch 8/33\n",
      "353/353 [==============================] - 40s 113ms/step - loss: 0.3514 - acc: 0.8597 - val_loss: 0.7133 - val_acc: 0.7714\n",
      "Epoch 9/33\n",
      "353/353 [==============================] - 40s 114ms/step - loss: 0.3139 - acc: 0.8713 - val_loss: 1.1082 - val_acc: 0.7214\n",
      "Epoch 10/33\n",
      "353/353 [==============================] - 40s 113ms/step - loss: 0.2947 - acc: 0.8838 - val_loss: 0.7118 - val_acc: 0.8571\n",
      "Epoch 11/33\n",
      "353/353 [==============================] - 40s 113ms/step - loss: 0.2541 - acc: 0.9006 - val_loss: 0.9337 - val_acc: 0.7500\n",
      "Epoch 12/33\n",
      "353/353 [==============================] - 40s 113ms/step - loss: 0.2205 - acc: 0.9127 - val_loss: 0.7958 - val_acc: 0.8143\n",
      "Epoch 13/33\n",
      "353/353 [==============================] - 40s 113ms/step - loss: 0.2084 - acc: 0.9175 - val_loss: 0.9217 - val_acc: 0.7500\n",
      "Epoch 14/33\n",
      "353/353 [==============================] - 40s 113ms/step - loss: 0.1774 - acc: 0.9324 - val_loss: 1.0757 - val_acc: 0.7857\n",
      "Epoch 15/33\n",
      "353/353 [==============================] - 40s 113ms/step - loss: 0.1742 - acc: 0.9352 - val_loss: 1.2061 - val_acc: 0.7643\n",
      "Epoch 16/33\n",
      "353/353 [==============================] - 40s 113ms/step - loss: 0.1552 - acc: 0.9440 - val_loss: 0.9616 - val_acc: 0.8643\n",
      "Epoch 17/33\n",
      "353/353 [==============================] - 40s 113ms/step - loss: 0.1449 - acc: 0.9486 - val_loss: 0.8712 - val_acc: 0.8214\n",
      "Epoch 18/33\n",
      "353/353 [==============================] - 40s 112ms/step - loss: 0.1259 - acc: 0.9554 - val_loss: 0.9133 - val_acc: 0.8500\n",
      "Epoch 19/33\n",
      "353/353 [==============================] - 40s 112ms/step - loss: 0.1013 - acc: 0.9626 - val_loss: 0.9651 - val_acc: 0.8643\n",
      "Epoch 20/33\n",
      "353/353 [==============================] - 40s 113ms/step - loss: 0.1025 - acc: 0.9645 - val_loss: 1.6993 - val_acc: 0.7429\n",
      "Epoch 21/33\n",
      "353/353 [==============================] - 40s 113ms/step - loss: 0.1025 - acc: 0.9623 - val_loss: 1.4578 - val_acc: 0.7857\n",
      "Epoch 22/33\n",
      "353/353 [==============================] - 40s 113ms/step - loss: 0.0868 - acc: 0.9715 - val_loss: 0.9134 - val_acc: 0.8786\n",
      "Epoch 23/33\n",
      "353/353 [==============================] - 40s 112ms/step - loss: 0.1013 - acc: 0.9628 - val_loss: 1.2139 - val_acc: 0.8214\n",
      "Epoch 24/33\n",
      "353/353 [==============================] - 40s 113ms/step - loss: 0.0770 - acc: 0.9719 - val_loss: 0.9158 - val_acc: 0.8500\n",
      "Epoch 25/33\n",
      "353/353 [==============================] - 40s 112ms/step - loss: 0.0748 - acc: 0.9737 - val_loss: 0.8138 - val_acc: 0.8500\n",
      "Epoch 26/33\n",
      "353/353 [==============================] - 40s 113ms/step - loss: 0.0737 - acc: 0.9744 - val_loss: 1.2583 - val_acc: 0.8000\n",
      "Epoch 27/33\n",
      "353/353 [==============================] - 40s 112ms/step - loss: 0.0618 - acc: 0.9773 - val_loss: 1.1822 - val_acc: 0.8214\n",
      "Epoch 28/33\n",
      "353/353 [==============================] - 40s 113ms/step - loss: 0.0518 - acc: 0.9818 - val_loss: 1.4570 - val_acc: 0.8000\n",
      "Epoch 29/33\n",
      "353/353 [==============================] - 40s 112ms/step - loss: 0.0584 - acc: 0.9803 - val_loss: 1.4994 - val_acc: 0.8071\n",
      "Epoch 30/33\n",
      "353/353 [==============================] - 40s 113ms/step - loss: 0.0596 - acc: 0.9798 - val_loss: 2.2629 - val_acc: 0.7714\n",
      "Epoch 31/33\n",
      "353/353 [==============================] - 40s 113ms/step - loss: 0.0605 - acc: 0.9796 - val_loss: 1.5843 - val_acc: 0.7643\n",
      "Epoch 32/33\n",
      "353/353 [==============================] - 40s 112ms/step - loss: 0.0771 - acc: 0.9715 - val_loss: 1.5788 - val_acc: 0.7929\n",
      "Epoch 33/33\n",
      "353/353 [==============================] - 40s 112ms/step - loss: 0.0625 - acc: 0.9800 - val_loss: 1.0963 - val_acc: 0.8500\n"
     ]
    },
    {
     "data": {
      "text/plain": [
       "<keras.callbacks.History at 0x7f5de8d585c0>"
      ]
     },
     "execution_count": 38,
     "metadata": {},
     "output_type": "execute_result"
    }
   ],
   "source": [
    "model.fit_generator(train_batches,\n",
    "                   validation_data = valid_batches,\n",
    "                   shuffle = True,\n",
    "                   epochs = 33,\n",
    "                   verbose = 1)"
   ]
  },
  {
   "cell_type": "markdown",
   "metadata": {},
   "source": [
    "# Running on test data for Predictions\n",
    "The predictions will be displayed in scientific notation, e.g. 9.9989974e-01 in decimal is 0.99. This indicates high probability for the detected object"
   ]
  },
  {
   "cell_type": "code",
   "execution_count": 157,
   "metadata": {},
   "outputs": [
    {
     "name": "stdout",
     "output_type": "stream",
     "text": [
      "\r",
      "1/1 [==============================] - 0s 92ms/step\n"
     ]
    }
   ],
   "source": [
    "predictions = model.predict_generator(test_batches, verbose=1)"
   ]
  },
  {
   "cell_type": "markdown",
   "metadata": {},
   "source": [
    "The code block below will only work if HTML and display have been imported in the first block, This will allow us to use CSS formating for comparitive content display on jupyter notebook. For viewing normal outputs, use the print function"
   ]
  },
  {
   "cell_type": "code",
   "execution_count": 222,
   "metadata": {},
   "outputs": [
    {
     "data": {
      "text/html": [
       "<style>\n",
       ".output{\n",
       "    flex-direction: row;\n",
       "    \n",
       "}\n",
       "</style>"
      ],
      "text/plain": [
       "<IPython.core.display.HTML object>"
      ]
     },
     "execution_count": 222,
     "metadata": {},
     "output_type": "execute_result"
    }
   ],
   "source": [
    "CSS = \"\"\"\n",
    ".output{\n",
    "    flex-direction: row;\n",
    "    \n",
    "}\n",
    "\"\"\"\n",
    "HTML('<style>{}</style>'.format(CSS))"
   ]
  },
  {
   "cell_type": "code",
   "execution_count": 224,
   "metadata": {},
   "outputs": [
    {
     "data": {
      "text/plain": [
       "array([[1.0000000e+00, 3.4775942e-13, 6.6274785e-14],\n",
       "       [9.9989164e-01, 6.3697502e-05, 4.4652970e-05],\n",
       "       [1.2284192e-12, 6.6942430e-17, 1.0000000e+00],\n",
       "       [9.9999940e-01, 2.5595641e-09, 5.6758427e-07],\n",
       "       [7.0012698e-06, 2.1521750e-05, 9.9997151e-01],\n",
       "       [1.0000000e+00, 2.8495106e-12, 1.5433321e-13],\n",
       "       [4.2807125e-03, 9.9562114e-01, 9.8098579e-05],\n",
       "       [8.4755355e-03, 9.0063903e-03, 9.8251814e-01],\n",
       "       [2.1089415e-01, 2.8712308e-01, 5.0198275e-01],\n",
       "       [9.9913728e-01, 7.8021281e-04, 8.2476043e-05],\n",
       "       [4.9707349e-10, 4.8635895e-09, 1.0000000e+00],\n",
       "       [1.6808770e-05, 1.5966411e-05, 9.9996722e-01],\n",
       "       [9.9999809e-01, 1.9224613e-06, 9.1206225e-09],\n",
       "       [9.3211513e-03, 3.1096300e-01, 6.7971587e-01],\n",
       "       [1.0000000e+00, 1.1235273e-17, 7.6910443e-18],\n",
       "       [3.7214268e-04, 9.9769896e-01, 1.9288961e-03],\n",
       "       [1.4195481e-06, 9.9985862e-01, 1.3999132e-04],\n",
       "       [2.1005847e-07, 2.3376676e-06, 9.9999750e-01],\n",
       "       [2.3687346e-06, 9.7879114e-05, 9.9989974e-01],\n",
       "       [1.0792441e-02, 3.0010276e-02, 9.5919728e-01],\n",
       "       [2.5436091e-01, 7.4153990e-01, 4.0991809e-03]], dtype=float32)"
      ]
     },
     "metadata": {},
     "output_type": "display_data"
    },
    {
     "data": {
      "text/plain": [
       "array([[1., 0., 0.],\n",
       "       [1., 0., 0.],\n",
       "       [0., 0., 1.],\n",
       "       [0., 0., 1.],\n",
       "       [0., 0., 1.],\n",
       "       [1., 0., 0.],\n",
       "       [0., 1., 0.],\n",
       "       [0., 0., 1.],\n",
       "       [0., 1., 0.],\n",
       "       [1., 0., 0.],\n",
       "       [0., 0., 1.],\n",
       "       [0., 0., 1.],\n",
       "       [0., 1., 0.],\n",
       "       [0., 0., 1.],\n",
       "       [1., 0., 0.],\n",
       "       [0., 1., 0.],\n",
       "       [0., 0., 1.],\n",
       "       [0., 0., 1.],\n",
       "       [0., 0., 1.],\n",
       "       [0., 0., 1.],\n",
       "       [1., 0., 0.]], dtype=float32)"
      ]
     },
     "metadata": {},
     "output_type": "display_data"
    }
   ],
   "source": [
    "display(predictions)\n",
    "display(test_labels)"
   ]
  },
  {
   "cell_type": "markdown",
   "metadata": {},
   "source": [
    "# Plotting Confusion Matrix function \n",
    "Sklearn function 'confusion_matrix(y_true, y_pred)' requires two array arguements with class labels in decimals. The two arrays are true labels and predictions. The function below maps the probabilitiesn or one hot encoded arrays to the required array format"
   ]
  },
  {
   "cell_type": "code",
   "execution_count": 187,
   "metadata": {},
   "outputs": [
    {
     "name": "stdout",
     "output_type": "stream",
     "text": [
      "{'cargo': 0, 'tanker': 1, 'others': 2}\n",
      "[0, 0, 2, 2, 2, 0, 1, 2, 1, 0, 2, 2, 1, 2, 0, 1, 2, 2, 2, 2, 0]\n",
      "[0, 0, 2, 0, 2, 0, 1, 2, 2, 0, 2, 2, 0, 2, 0, 1, 1, 2, 2, 2, 1]\n"
     ]
    }
   ],
   "source": [
    "def predictions_to_label_array(predictions_array):\n",
    "    predictions_one_hot_encode = []\n",
    "    for array in predictions_array:\n",
    "        result_per__iteration = []\n",
    "        for value in array:\n",
    "            if value < max(array):\n",
    "                result_per__iteration.append(0)\n",
    "            elif value == max(array):\n",
    "                result_per__iteration.append(1)\n",
    "            else:\n",
    "                result_per__iteration.append(0)\n",
    "        predictions_one_hot_encode.append(result_per__iteration)\n",
    "    return([np.where(r==1)[0][0] for r in np.array(predictions_one_hot_encode)])\n",
    "prediction_label = predictions_to_label_array(predictions)\n",
    "true_label = predictions_to_label_array(test_labels)\n",
    "print('{}\\n{}\\n{}'.format(class_labels, true_label, prediction_label))"
   ]
  },
  {
   "cell_type": "code",
   "execution_count": 191,
   "metadata": {},
   "outputs": [],
   "source": [
    "cm = confusion_matrix(true_label, prediction_label)"
   ]
  },
  {
   "cell_type": "markdown",
   "metadata": {},
   "source": [
    "This function has been copied from the Sklearn confusion matrix page"
   ]
  },
  {
   "cell_type": "code",
   "execution_count": 192,
   "metadata": {},
   "outputs": [],
   "source": [
    "def plot_confusion_matrix(cm, classes,\n",
    "                          normalize=False,\n",
    "                          title='Confusion matrix',\n",
    "                          cmap=plt.cm.Blues):\n",
    "    \"\"\"\n",
    "    This function prints and plots the confusion matrix.\n",
    "    Normalization can be applied by setting `normalize=True`.\n",
    "    \"\"\"\n",
    "    if normalize:\n",
    "        cm = cm.astype('float') / cm.sum(axis=1)[:, np.newaxis]\n",
    "        print(\"Normalized confusion matrix\")\n",
    "    else:\n",
    "        print('Confusion matrix, without normalization')\n",
    "\n",
    "    print(cm)\n",
    "\n",
    "    plt.imshow(cm, interpolation='nearest', cmap=cmap)\n",
    "    plt.title(title)\n",
    "    plt.colorbar()\n",
    "    tick_marks = np.arange(len(classes))\n",
    "    plt.xticks(tick_marks, classes, rotation=45)\n",
    "    plt.yticks(tick_marks, classes)\n",
    "\n",
    "    fmt = '.2f' if normalize else 'd'\n",
    "    thresh = cm.max() / 2.\n",
    "    for i, j in itertools.product(range(cm.shape[0]), range(cm.shape[1])):\n",
    "        plt.text(j, i, format(cm[i, j], fmt),\n",
    "                 horizontalalignment=\"center\",\n",
    "                 color=\"white\" if cm[i, j] > thresh else \"black\")\n",
    "\n",
    "    plt.tight_layout()\n",
    "    plt.ylabel('True label')\n",
    "    plt.xlabel('Predicted label')\n",
    "\n",
    "plt.show()"
   ]
  },
  {
   "cell_type": "code",
   "execution_count": 193,
   "metadata": {},
   "outputs": [
    {
     "name": "stdout",
     "output_type": "stream",
     "text": [
      "Confusion matrix, without normalization\n",
      "[[5 1 0]\n",
      " [1 2 1]\n",
      " [1 1 9]]\n",
      "Confusion matrix, without normalization\n",
      "[[5 1 0]\n",
      " [1 2 1]\n",
      " [1 1 9]]\n"
     ]
    },
    {
     "data": {
      "image/png": "[encoded data removed]",
      "text/plain": [
       "<Figure size 432x288 with 3 Axes>"
      ]
     },
     "metadata": {},
     "output_type": "display_data"
    }
   ],
   "source": [
    "cm_plot_labels = categories\n",
    "plot_confusion_matrix(cm, cm_plot_labels,\n",
    "                          title='Confusion matrix')\n",
    "\n",
    "plot_confusion_matrix(cm, classes=categories,\n",
    "                      title='Confusion matrix, without normalization')"
   ]
  },
  {
   "cell_type": "markdown",
   "metadata": {},
   "source": [
    "# Generate Classification Report"
   ]
  },
  {
   "cell_type": "code",
   "execution_count": 225,
   "metadata": {},
   "outputs": [
    {
     "name": "stdout",
     "output_type": "stream",
     "text": [
      "             precision    recall  f1-score   support\n",
      "\n",
      "      cargo       0.71      0.83      0.77         6\n",
      "     tanker       0.50      0.50      0.50         4\n",
      "     others       0.90      0.82      0.86        11\n",
      "\n",
      "avg / total       0.77      0.76      0.76        21\n",
      "\n"
     ]
    }
   ],
   "source": [
    "print(classification_report(true_label, prediction_label, target_names=categories))"
   ]
  },
  {
   "cell_type": "markdown",
   "metadata": {},
   "source": [
    "# Saving the model\n",
    "The method below will only work if keras version 2.1.6 or below is used"
   ]
  },
  {
   "cell_type": "code",
   "execution_count": 49,
   "metadata": {},
   "outputs": [],
   "source": [
    "model.save('saved_models/vgg16_model_ships.h5')#The architecture, weights, congig, state"
   ]
  },
  {
   "cell_type": "code",
   "execution_count": 50,
   "metadata": {},
   "outputs": [],
   "source": [
    "new_model = load_model('saved_models/vgg16_model_ships.h5')"
   ]
  }
 ],
 "metadata": {
  "kernelspec": {
   "display_name": "Python 3",
   "language": "python",
   "name": "python3"
  },
  "language_info": {
   "codemirror_mode": {
    "name": "ipython",
    "version": 3
   },
   "file_extension": ".py",
   "mimetype": "text/x-python",
   "name": "python",
   "nbconvert_exporter": "python",
   "pygments_lexer": "ipython3",
   "version": "3.6.6"
  }
 },
 "nbformat": 4,
 "nbformat_minor": 2
}
